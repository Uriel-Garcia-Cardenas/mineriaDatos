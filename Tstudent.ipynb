{
 "cells": [
  {
   "cell_type": "code",
   "execution_count": 1,
   "id": "7694f569",
   "metadata": {},
   "outputs": [],
   "source": [
    "import numpy as np\n",
    "from scipy import stats\n",
    "import matplotlib.pyplot as plt\n"
   ]
  },
  {
   "cell_type": "markdown",
   "id": "4d9c7ee4",
   "metadata": {},
   "source": [
    "### Ejercicio 1: Tiempo de Resolución de Tickets\n",
    "\n",
    "Una empresa de tecnología afirma que el tiempo promedio que sus empleados tardan en resolver un ticket de soporte es de **45 minutos**. Para verificar esta afirmación, se toma una muestra aleatoria de **25 empleados** y se mide el tiempo (en minutos) que cada uno tarda en resolver un ticket.\n",
    "\n",
    "**¿El tiempo promedio de resolución de la muestra es significativamente diferente de 45 minutos?**\n"
   ]
  },
  {
   "cell_type": "code",
   "execution_count": 5,
   "id": "3d7093f3",
   "metadata": {},
   "outputs": [
    {
     "name": "stdout",
     "output_type": "stream",
     "text": [
      "Media muestral: 43.95 minutos\n",
      "Estadístico t: -1.1963\n",
      "Valor p: 0.2433\n",
      " No se rechaza H0: No hay evidencia suficiente de una diferencia.\n"
     ]
    }
   ],
   "source": [
    "np.random.seed(1)\n",
    "muestra = np.random.normal(loc=44, scale=4, size=25) \n",
    "\n",
    "# Prueba t para una muestra\n",
    "t_stat, p_value = stats.ttest_1samp(muestra, popmean=45)\n",
    "\n",
    "print(f\"Media muestral: {np.mean(muestra):.2f} minutos\")\n",
    "print(f\"Estadístico t: {t_stat:.4f}\")\n",
    "print(f\"Valor p: {p_value:.4f}\")\n",
    "\n",
    "if p_value < 0.05:\n",
    "    print(\" Se rechaza H0: El tiempo promedio es significativamente diferente de 45 minutos.\")\n",
    "else:\n",
    "    print(\" No se rechaza H0: No hay evidencia suficiente de una diferencia.\")\n"
   ]
  },
  {
   "cell_type": "markdown",
   "id": "325d1d5d",
   "metadata": {},
   "source": [
    "# Ejercicio 2: Comparación de Programas de Entrenamiento\n",
    "\n",
    "Un gimnasio quiere comparar la efectividad de dos programas de entrenamiento en la pérdida de peso. Para ello, selecciona **30 personas** aleatoriamente y las divide en dos grupos:\n",
    "\n",
    "- **Grupo A**: Entrenamiento tradicional  \n",
    "- **Grupo B**: Entrenamiento de alta intensidad\n",
    "\n",
    "Después de 3 meses, se mide la pérdida de peso (en kg) de cada persona.\n",
    "\n",
    "**¿Hay una diferencia significativa entre los dos programas?**\n"
   ]
  },
  {
   "cell_type": "code",
   "execution_count": 4,
   "id": "9dfa6487",
   "metadata": {},
   "outputs": [
    {
     "name": "stdout",
     "output_type": "stream",
     "text": [
      "Media pérdida Grupo A: 3.23 kg\n",
      "Media pérdida Grupo B: 4.53 kg\n",
      "Estadístico t: -3.4494\n",
      "Valor p: 0.0021\n",
      " Se rechaza H0: Hay una diferencia significativa entre los programas.\n"
     ]
    }
   ],
   "source": [
    "np.random.seed(2)\n",
    "grupo_A = np.random.normal(loc=3.5, scale=1.0, size=15)\n",
    "grupo_B = np.random.normal(loc=5.0, scale=1.2, size=15)\n",
    "\n",
    "t_stat, p_value = stats.ttest_ind(grupo_A, grupo_B, equal_var=False)\n",
    "\n",
    "print(f\"Media pérdida Grupo A: {np.mean(grupo_A):.2f} kg\")\n",
    "print(f\"Media pérdida Grupo B: {np.mean(grupo_B):.2f} kg\")\n",
    "print(f\"Estadístico t: {t_stat:.4f}\")\n",
    "print(f\"Valor p: {p_value:.4f}\")\n",
    "\n",
    "if p_value < 0.05:\n",
    "    print(\" Se rechaza H0: Hay una diferencia significativa entre los programas.\")\n",
    "else:\n",
    "    print(\" No se rechaza H0: No hay evidencia suficiente de diferencia.\")\n"
   ]
  },
  {
   "cell_type": "markdown",
   "id": "83a1ebb8",
   "metadata": {},
   "source": [
    "# Ejercicio 3: Dieta y Niveles de Colesterol\n",
    "\n",
    "Un nutricionista quiere evaluar si una dieta especial reduce los niveles de colesterol en sus pacientes. Se seleccionan **20 personas** y se miden sus niveles de colesterol **antes y después** de 2 meses de seguir la dieta.\n",
    "\n",
    "**¿Hubo una reducción significativa en los niveles de colesterol después del tratamiento?**\n"
   ]
  },
  {
   "cell_type": "code",
   "execution_count": 3,
   "id": "8fb8202b",
   "metadata": {},
   "outputs": [
    {
     "name": "stdout",
     "output_type": "stream",
     "text": [
      "Media antes: 208.64 mg/dL\n",
      "Media después: 196.28 mg/dL\n",
      "Estadístico t: 5.2578\n",
      "Valor p: 0.0000\n",
      " Se rechaza H0: Hubo una reducción significativa en los niveles de colesterol.\n"
     ]
    }
   ],
   "source": [
    "np.random.seed(3)\n",
    "antes = np.random.normal(loc=210, scale=15, size=20)\n",
    "despues = antes - np.random.normal(loc=15, scale=10, size=20) \n",
    "\n",
    "t_stat, p_value = stats.ttest_rel(antes, despues)\n",
    "\n",
    "print(f\"Media antes: {np.mean(antes):.2f} mg/dL\")\n",
    "print(f\"Media después: {np.mean(despues):.2f} mg/dL\")\n",
    "print(f\"Estadístico t: {t_stat:.4f}\")\n",
    "print(f\"Valor p: {p_value:.4f}\")\n",
    "\n",
    "if p_value < 0.05:\n",
    "    print(\" Se rechaza H0: Hubo una reducción significativa en los niveles de colesterol.\")\n",
    "else:\n",
    "    print(\" No se rechaza H0: No hay evidencia suficiente de reducción.\")\n"
   ]
  },
  {
   "cell_type": "markdown",
   "id": "841836ca",
   "metadata": {},
   "source": [
    "# Ejercicio 4: Velocidad de Reacción en Diferentes Grupos de Edad\n",
    "\n",
    "Un investigador quiere saber si hay una diferencia significativa en la velocidad de reacción entre personas **jóvenes (18-30 años)** y **adultos mayores (60+ años)**. Se seleccionan **40 personas** y se mide el tiempo (en milisegundos) que tardan en responder a un estímulo visual.\n",
    "\n",
    "**¿Las velocidades de reacción son significativamente diferentes entre los grupos?**\n"
   ]
  },
  {
   "cell_type": "code",
   "execution_count": 2,
   "id": "47e64549",
   "metadata": {},
   "outputs": [
    {
     "name": "stdout",
     "output_type": "stream",
     "text": [
      "Media jóvenes: 249.57 ms\n",
      "Media mayores: 292.91 ms\n",
      "Estadístico t: -5.5018\n",
      "Valor p: 0.0000\n",
      " Se rechaza H0: Hay una diferencia significativa en las velocidades de reacción.\n"
     ]
    }
   ],
   "source": [
    "np.random.seed(4)\n",
    "jovenes = np.random.normal(loc=250, scale=20, size=20)\n",
    "mayores = np.random.normal(loc=290, scale=25, size=20)\n",
    "\n",
    "t_stat, p_value = stats.ttest_ind(jovenes, mayores, equal_var=False)\n",
    "\n",
    "print(f\"Media jóvenes: {np.mean(jovenes):.2f} ms\")\n",
    "print(f\"Media mayores: {np.mean(mayores):.2f} ms\")\n",
    "print(f\"Estadístico t: {t_stat:.4f}\")\n",
    "print(f\"Valor p: {p_value:.4f}\")\n",
    "\n",
    "if p_value < 0.05:\n",
    "    print(\" Se rechaza H0: Hay una diferencia significativa en las velocidades de reacción.\")\n",
    "else:\n",
    "    print(\" No se rechaza H0: No hay evidencia suficiente de diferencia.\")\n"
   ]
  }
 ],
 "metadata": {
  "kernelspec": {
   "display_name": "Python 3",
   "language": "python",
   "name": "python3"
  },
  "language_info": {
   "codemirror_mode": {
    "name": "ipython",
    "version": 3
   },
   "file_extension": ".py",
   "mimetype": "text/x-python",
   "name": "python",
   "nbconvert_exporter": "python",
   "pygments_lexer": "ipython3",
   "version": "3.12.4"
  }
 },
 "nbformat": 4,
 "nbformat_minor": 5
}
